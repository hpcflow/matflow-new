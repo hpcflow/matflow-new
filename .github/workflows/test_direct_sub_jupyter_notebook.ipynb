{
 "cells": [
  {
   "cell_type": "code",
   "execution_count": null,
   "metadata": {
    "tags": []
   },
   "outputs": [],
   "source": [
    "\"\"\"Used to test submission of a workflow via a Jupyter notebook (this file).\"\"\"\n",
    "\n",
    "import importlib\n",
    "import sys\n",
    "from tempfile import gettempdir\n",
    "\n",
    "# `app_import_str` is a `papermill` \"parameter\" that we pass on the command line with the \n",
    "# -p option:\n",
    "app = importlib.import_module(app_import_str)\n",
    "\n",
    "wk_yaml = \"\"\"\n",
    "name: workflow_1\n",
    "template_components:\n",
    "  task_schemas:\n",
    "    - objective: test_t1_conditional_OS_in_place\n",
    "      inputs:\n",
    "        - parameter: p1\n",
    "      outputs:\n",
    "        - parameter: p2\n",
    "      actions:\n",
    "        - rules:\n",
    "            - path: resources.os_name\n",
    "              condition: { value.equal_to: posix }\n",
    "          environments:\n",
    "            - scope:\n",
    "                type: any\n",
    "              environment: null_env\n",
    "          commands:\n",
    "            - command: echo \"$((<<parameter:p1>> + 100))\"\n",
    "              stdout: <<parameter:p2>>\n",
    "        - rules:\n",
    "            - path: resources.os_name\n",
    "              condition: { value.equal_to: nt }\n",
    "          environments:\n",
    "            - scope:\n",
    "                type: any\n",
    "              environment: null_env\n",
    "          commands:\n",
    "            - command: Write-Output ((<<parameter:p1>> + 100))\n",
    "              stdout: <<parameter:p2>>\n",
    "tasks:\n",
    "  - schema: test_t1_conditional_OS_in_place\n",
    "    inputs:\n",
    "      p1: 101\n",
    "\"\"\"\n",
    "wk = app.Workflow.from_YAML_string(YAML_str=wk_yaml, path=gettempdir())\n",
    "wk.submit(wait=True, status=False)\n",
    "assert wk.tasks[0].elements[0].outputs.p2.value == \"201\""
   ]
  }
 ],
 "metadata": {
  "kernelspec": {
   "display_name": "hpcflow-new2-gxKrizOt-py3.11",
   "language": "python",
   "name": "python3"
  },
  "language_info": {
   "codemirror_mode": {
    "name": "ipython",
    "version": 3
   },
   "file_extension": ".py",
   "mimetype": "text/x-python",
   "name": "python",
   "nbconvert_exporter": "python",
   "pygments_lexer": "ipython3",
   "version": "3.11.3"
  },
  "orig_nbformat": 4
 },
 "nbformat": 4,
 "nbformat_minor": 2
}
